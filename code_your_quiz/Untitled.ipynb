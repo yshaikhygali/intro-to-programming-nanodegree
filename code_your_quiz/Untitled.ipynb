{
 "cells": [
  {
   "cell_type": "code",
   "execution_count": 7,
   "metadata": {},
   "outputs": [],
   "source": [
    "easy_questions = \"Classes and objects are the two main aspects of object oriented programming. A __1__ creates a new type where objects are instances of the class. Variables that belong to an object or class are referred to as __2__. Objects can also have functionality by using functions that belong to a class. Such functions are called __3__ of the class. __4__ is a class variable or instance variable that holds data associated with a class and its objects.\""
   ]
  },
  {
   "cell_type": "code",
   "execution_count": 8,
   "metadata": {},
   "outputs": [],
   "source": [
    "easy_answers = [\"class\", \"fields\", \"methods\", \"class member\"]"
   ]
  },
  {
   "cell_type": "code",
   "execution_count": 12,
   "metadata": {},
   "outputs": [],
   "source": [
    "\n",
    "blank_spaces = [\"__1__\", \"__2__\", \"__3__\", \"__4__\"]\n",
    "\n",
    "\n",
    "# for word in easy_questions.split():\n",
    "#     if word == blank_spaces[0]:\n",
    "#         easy_questions[easy_questions.split().index(blank_spaces[question])] = easy_answers[question]\n",
    "easy_questions = easy_questions.replace(blank_spaces[0], easy_answers[0])\n",
    "\n"
   ]
  },
  {
   "cell_type": "code",
   "execution_count": 13,
   "metadata": {},
   "outputs": [
    {
     "data": {
      "text/plain": [
       "'Classes and objects are the two main aspects of object oriented programming. A class creates a new type where objects are instances of the class. Variables that belong to an object or class are referred to as __2__. Objects can also have functionality by using functions that belong to a class. Such functions are called __3__ of the class. __4__ is a class variable or instance variable that holds data associated with a class and its objects.'"
      ]
     },
     "execution_count": 13,
     "metadata": {},
     "output_type": "execute_result"
    }
   ],
   "source": [
    "easy_questions"
   ]
  },
  {
   "cell_type": "code",
   "execution_count": null,
   "metadata": {},
   "outputs": [],
   "source": []
  }
 ],
 "metadata": {
  "kernelspec": {
   "display_name": "Python 3",
   "language": "python",
   "name": "python3"
  },
  "language_info": {
   "codemirror_mode": {
    "name": "ipython",
    "version": 3
   },
   "file_extension": ".py",
   "mimetype": "text/x-python",
   "name": "python",
   "nbconvert_exporter": "python",
   "pygments_lexer": "ipython3",
   "version": "3.6.5"
  }
 },
 "nbformat": 4,
 "nbformat_minor": 2
}
